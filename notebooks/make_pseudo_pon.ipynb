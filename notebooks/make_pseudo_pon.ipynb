{
 "cells": [
  {
   "cell_type": "code",
   "execution_count": 1,
   "metadata": {},
   "outputs": [],
   "source": [
    "import os\n",
    "import glob\n",
    "\n",
    "import pandas as pd\n",
    "\n",
    "from multiprocessing import Pool"
   ]
  },
  {
   "cell_type": "code",
   "execution_count": 5,
   "metadata": {},
   "outputs": [],
   "source": [
    "files = '/scratch/t.cri.awoodard/indel-filtering/cgpPindel/*/*vcf.gz'\n",
    "# num_workers = os.cpu_count()\n",
    "num_workers = 12"
   ]
  },
  {
   "cell_type": "code",
   "execution_count": 3,
   "metadata": {},
   "outputs": [],
   "source": [
    "def get_pseudo_pon(paths):\n",
    "    \"\"\"Get a pseudo panel of normals (PON).\n",
    "    \n",
    "    The PON is constructed by aggregating all unique non-PASS variants found\n",
    "    across all samples.\n",
    "\n",
    "    Parameters\n",
    "    ----------\n",
    "    paths : list of str\n",
    "        Paths to sample VCF files.\n",
    "\n",
    "    Returns\n",
    "    -------\n",
    "    pandas.DataFrame\n",
    "        \n",
    "    \"\"\"\n",
    "    from utils import read_vcf\n",
    "\n",
    "    pseudo_pon = None\n",
    "    columns = ['CHROM', 'POS', 'REF', 'ALT']\n",
    "    for path in paths:\n",
    "        df = read_vcf(path)\n",
    "        if pseudo_pon is None:\n",
    "            pseudo_pon = df[columns][df.FILTER != 'PASS']\n",
    "        else:\n",
    "            pseudo_pon = pd.concat([pseudo_pon, df[columns][df.FILTER != 'PASS']]).drop_duplicates()\n",
    "    \n",
    "    return pseudo_pon"
   ]
  },
  {
   "cell_type": "code",
   "execution_count": 6,
   "metadata": {},
   "outputs": [],
   "source": [
    "paths = glob.glob(files)\n",
    "num_chunks = int(float(len(paths)) / num_workers) * 2\n",
    "chunks = [paths[i:i + num_chunks] for i in range(0, len(paths), num_chunks)]"
   ]
  },
  {
   "cell_type": "code",
   "execution_count": 7,
   "metadata": {
    "scrolled": true
   },
   "outputs": [],
   "source": [
    "pool = Pool(processes=num_workers)\n",
    "pons = pool.map(get_pseudo_pon, chunks)"
   ]
  },
  {
   "cell_type": "code",
   "execution_count": 8,
   "metadata": {},
   "outputs": [],
   "source": [
    "pseudo_pon = pd.concat(pons).drop_duplicates()"
   ]
  },
  {
   "cell_type": "code",
   "execution_count": 9,
   "metadata": {},
   "outputs": [],
   "source": [
    "pseudo_pon.to_parquet('/scratch/t.cri.awoodard/indel-filtering/pseudo_pon.parquet')"
   ]
  }
 ],
 "metadata": {
  "kernelspec": {
   "display_name": "Python 3",
   "language": "python",
   "name": "python3"
  },
  "language_info": {
   "codemirror_mode": {
    "name": "ipython",
    "version": 3
   },
   "file_extension": ".py",
   "mimetype": "text/x-python",
   "name": "python",
   "nbconvert_exporter": "python",
   "pygments_lexer": "ipython3",
   "version": "3.7.3"
  }
 },
 "nbformat": 4,
 "nbformat_minor": 2
}
